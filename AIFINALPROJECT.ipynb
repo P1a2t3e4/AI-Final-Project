{
  "nbformat": 4,
  "nbformat_minor": 0,
  "metadata": {
    "colab": {
      "provenance": []
    },
    "kernelspec": {
      "name": "python3",
      "display_name": "Python 3"
    },
    "language_info": {
      "name": "python"
    }
  },
  "cells": [
    {
      "cell_type": "code",
      "execution_count": 59,
      "metadata": {
        "colab": {
          "base_uri": "https://localhost:8080/"
        },
        "id": "nMrHsSc8YwPk",
        "outputId": "580a5a9e-06aa-422e-d3df-3e64af599792"
      },
      "outputs": [
        {
          "output_type": "stream",
          "name": "stdout",
          "text": [
            "Requirement already satisfied: google-cloud-speech in /usr/local/lib/python3.10/dist-packages (2.22.0)\n",
            "Requirement already satisfied: google-api-core!=2.0.*,!=2.1.*,!=2.10.*,!=2.2.*,!=2.3.*,!=2.4.*,!=2.5.*,!=2.6.*,!=2.7.*,!=2.8.*,!=2.9.*,<3.0.0dev,>=1.34.0 in /usr/local/lib/python3.10/dist-packages (from google-api-core[grpc]!=2.0.*,!=2.1.*,!=2.10.*,!=2.2.*,!=2.3.*,!=2.4.*,!=2.5.*,!=2.6.*,!=2.7.*,!=2.8.*,!=2.9.*,<3.0.0dev,>=1.34.0->google-cloud-speech) (2.11.1)\n",
            "Requirement already satisfied: proto-plus<2.0.0dev,>=1.22.0 in /usr/local/lib/python3.10/dist-packages (from google-cloud-speech) (1.22.3)\n",
            "Requirement already satisfied: protobuf!=3.20.0,!=3.20.1,!=4.21.0,!=4.21.1,!=4.21.2,!=4.21.3,!=4.21.4,!=4.21.5,<5.0.0dev,>=3.19.5 in /usr/local/lib/python3.10/dist-packages (from google-cloud-speech) (3.20.3)\n",
            "Requirement already satisfied: googleapis-common-protos<2.0.dev0,>=1.56.2 in /usr/local/lib/python3.10/dist-packages (from google-api-core!=2.0.*,!=2.1.*,!=2.10.*,!=2.2.*,!=2.3.*,!=2.4.*,!=2.5.*,!=2.6.*,!=2.7.*,!=2.8.*,!=2.9.*,<3.0.0dev,>=1.34.0->google-api-core[grpc]!=2.0.*,!=2.1.*,!=2.10.*,!=2.2.*,!=2.3.*,!=2.4.*,!=2.5.*,!=2.6.*,!=2.7.*,!=2.8.*,!=2.9.*,<3.0.0dev,>=1.34.0->google-cloud-speech) (1.61.0)\n",
            "Requirement already satisfied: google-auth<3.0.dev0,>=2.14.1 in /usr/local/lib/python3.10/dist-packages (from google-api-core!=2.0.*,!=2.1.*,!=2.10.*,!=2.2.*,!=2.3.*,!=2.4.*,!=2.5.*,!=2.6.*,!=2.7.*,!=2.8.*,!=2.9.*,<3.0.0dev,>=1.34.0->google-api-core[grpc]!=2.0.*,!=2.1.*,!=2.10.*,!=2.2.*,!=2.3.*,!=2.4.*,!=2.5.*,!=2.6.*,!=2.7.*,!=2.8.*,!=2.9.*,<3.0.0dev,>=1.34.0->google-cloud-speech) (2.17.3)\n",
            "Requirement already satisfied: requests<3.0.0.dev0,>=2.18.0 in /usr/local/lib/python3.10/dist-packages (from google-api-core!=2.0.*,!=2.1.*,!=2.10.*,!=2.2.*,!=2.3.*,!=2.4.*,!=2.5.*,!=2.6.*,!=2.7.*,!=2.8.*,!=2.9.*,<3.0.0dev,>=1.34.0->google-api-core[grpc]!=2.0.*,!=2.1.*,!=2.10.*,!=2.2.*,!=2.3.*,!=2.4.*,!=2.5.*,!=2.6.*,!=2.7.*,!=2.8.*,!=2.9.*,<3.0.0dev,>=1.34.0->google-cloud-speech) (2.31.0)\n",
            "Requirement already satisfied: grpcio<2.0dev,>=1.33.2 in /usr/local/lib/python3.10/dist-packages (from google-api-core[grpc]!=2.0.*,!=2.1.*,!=2.10.*,!=2.2.*,!=2.3.*,!=2.4.*,!=2.5.*,!=2.6.*,!=2.7.*,!=2.8.*,!=2.9.*,<3.0.0dev,>=1.34.0->google-cloud-speech) (1.59.3)\n",
            "Requirement already satisfied: grpcio-status<2.0.dev0,>=1.33.2 in /usr/local/lib/python3.10/dist-packages (from google-api-core[grpc]!=2.0.*,!=2.1.*,!=2.10.*,!=2.2.*,!=2.3.*,!=2.4.*,!=2.5.*,!=2.6.*,!=2.7.*,!=2.8.*,!=2.9.*,<3.0.0dev,>=1.34.0->google-cloud-speech) (1.48.2)\n",
            "Requirement already satisfied: cachetools<6.0,>=2.0.0 in /usr/local/lib/python3.10/dist-packages (from google-auth<3.0.dev0,>=2.14.1->google-api-core!=2.0.*,!=2.1.*,!=2.10.*,!=2.2.*,!=2.3.*,!=2.4.*,!=2.5.*,!=2.6.*,!=2.7.*,!=2.8.*,!=2.9.*,<3.0.0dev,>=1.34.0->google-api-core[grpc]!=2.0.*,!=2.1.*,!=2.10.*,!=2.2.*,!=2.3.*,!=2.4.*,!=2.5.*,!=2.6.*,!=2.7.*,!=2.8.*,!=2.9.*,<3.0.0dev,>=1.34.0->google-cloud-speech) (5.3.2)\n",
            "Requirement already satisfied: pyasn1-modules>=0.2.1 in /usr/local/lib/python3.10/dist-packages (from google-auth<3.0.dev0,>=2.14.1->google-api-core!=2.0.*,!=2.1.*,!=2.10.*,!=2.2.*,!=2.3.*,!=2.4.*,!=2.5.*,!=2.6.*,!=2.7.*,!=2.8.*,!=2.9.*,<3.0.0dev,>=1.34.0->google-api-core[grpc]!=2.0.*,!=2.1.*,!=2.10.*,!=2.2.*,!=2.3.*,!=2.4.*,!=2.5.*,!=2.6.*,!=2.7.*,!=2.8.*,!=2.9.*,<3.0.0dev,>=1.34.0->google-cloud-speech) (0.3.0)\n",
            "Requirement already satisfied: six>=1.9.0 in /usr/local/lib/python3.10/dist-packages (from google-auth<3.0.dev0,>=2.14.1->google-api-core!=2.0.*,!=2.1.*,!=2.10.*,!=2.2.*,!=2.3.*,!=2.4.*,!=2.5.*,!=2.6.*,!=2.7.*,!=2.8.*,!=2.9.*,<3.0.0dev,>=1.34.0->google-api-core[grpc]!=2.0.*,!=2.1.*,!=2.10.*,!=2.2.*,!=2.3.*,!=2.4.*,!=2.5.*,!=2.6.*,!=2.7.*,!=2.8.*,!=2.9.*,<3.0.0dev,>=1.34.0->google-cloud-speech) (1.16.0)\n",
            "Requirement already satisfied: rsa<5,>=3.1.4 in /usr/local/lib/python3.10/dist-packages (from google-auth<3.0.dev0,>=2.14.1->google-api-core!=2.0.*,!=2.1.*,!=2.10.*,!=2.2.*,!=2.3.*,!=2.4.*,!=2.5.*,!=2.6.*,!=2.7.*,!=2.8.*,!=2.9.*,<3.0.0dev,>=1.34.0->google-api-core[grpc]!=2.0.*,!=2.1.*,!=2.10.*,!=2.2.*,!=2.3.*,!=2.4.*,!=2.5.*,!=2.6.*,!=2.7.*,!=2.8.*,!=2.9.*,<3.0.0dev,>=1.34.0->google-cloud-speech) (4.9)\n",
            "Requirement already satisfied: charset-normalizer<4,>=2 in /usr/local/lib/python3.10/dist-packages (from requests<3.0.0.dev0,>=2.18.0->google-api-core!=2.0.*,!=2.1.*,!=2.10.*,!=2.2.*,!=2.3.*,!=2.4.*,!=2.5.*,!=2.6.*,!=2.7.*,!=2.8.*,!=2.9.*,<3.0.0dev,>=1.34.0->google-api-core[grpc]!=2.0.*,!=2.1.*,!=2.10.*,!=2.2.*,!=2.3.*,!=2.4.*,!=2.5.*,!=2.6.*,!=2.7.*,!=2.8.*,!=2.9.*,<3.0.0dev,>=1.34.0->google-cloud-speech) (3.3.2)\n",
            "Requirement already satisfied: idna<4,>=2.5 in /usr/local/lib/python3.10/dist-packages (from requests<3.0.0.dev0,>=2.18.0->google-api-core!=2.0.*,!=2.1.*,!=2.10.*,!=2.2.*,!=2.3.*,!=2.4.*,!=2.5.*,!=2.6.*,!=2.7.*,!=2.8.*,!=2.9.*,<3.0.0dev,>=1.34.0->google-api-core[grpc]!=2.0.*,!=2.1.*,!=2.10.*,!=2.2.*,!=2.3.*,!=2.4.*,!=2.5.*,!=2.6.*,!=2.7.*,!=2.8.*,!=2.9.*,<3.0.0dev,>=1.34.0->google-cloud-speech) (3.6)\n",
            "Requirement already satisfied: urllib3<3,>=1.21.1 in /usr/local/lib/python3.10/dist-packages (from requests<3.0.0.dev0,>=2.18.0->google-api-core!=2.0.*,!=2.1.*,!=2.10.*,!=2.2.*,!=2.3.*,!=2.4.*,!=2.5.*,!=2.6.*,!=2.7.*,!=2.8.*,!=2.9.*,<3.0.0dev,>=1.34.0->google-api-core[grpc]!=2.0.*,!=2.1.*,!=2.10.*,!=2.2.*,!=2.3.*,!=2.4.*,!=2.5.*,!=2.6.*,!=2.7.*,!=2.8.*,!=2.9.*,<3.0.0dev,>=1.34.0->google-cloud-speech) (2.0.7)\n",
            "Requirement already satisfied: certifi>=2017.4.17 in /usr/local/lib/python3.10/dist-packages (from requests<3.0.0.dev0,>=2.18.0->google-api-core!=2.0.*,!=2.1.*,!=2.10.*,!=2.2.*,!=2.3.*,!=2.4.*,!=2.5.*,!=2.6.*,!=2.7.*,!=2.8.*,!=2.9.*,<3.0.0dev,>=1.34.0->google-api-core[grpc]!=2.0.*,!=2.1.*,!=2.10.*,!=2.2.*,!=2.3.*,!=2.4.*,!=2.5.*,!=2.6.*,!=2.7.*,!=2.8.*,!=2.9.*,<3.0.0dev,>=1.34.0->google-cloud-speech) (2023.11.17)\n",
            "Requirement already satisfied: pyasn1<0.6.0,>=0.4.6 in /usr/local/lib/python3.10/dist-packages (from pyasn1-modules>=0.2.1->google-auth<3.0.dev0,>=2.14.1->google-api-core!=2.0.*,!=2.1.*,!=2.10.*,!=2.2.*,!=2.3.*,!=2.4.*,!=2.5.*,!=2.6.*,!=2.7.*,!=2.8.*,!=2.9.*,<3.0.0dev,>=1.34.0->google-api-core[grpc]!=2.0.*,!=2.1.*,!=2.10.*,!=2.2.*,!=2.3.*,!=2.4.*,!=2.5.*,!=2.6.*,!=2.7.*,!=2.8.*,!=2.9.*,<3.0.0dev,>=1.34.0->google-cloud-speech) (0.5.1)\n",
            "\u001b[33mWARNING: Running pip as the 'root' user can result in broken permissions and conflicting behaviour with the system package manager. It is recommended to use a virtual environment instead: https://pip.pypa.io/warnings/venv\u001b[0m\u001b[33m\n",
            "\u001b[0m"
          ]
        }
      ],
      "source": [
        "!pip install google-cloud-speech"
      ]
    },
    {
      "cell_type": "code",
      "source": [
        "!pip install --upgrade google-cloud-speech"
      ],
      "metadata": {
        "colab": {
          "base_uri": "https://localhost:8080/"
        },
        "id": "QGlEfBV2bhPs",
        "outputId": "1c8a48b7-85e2-4c70-cd6a-36734d0749f6"
      },
      "execution_count": 60,
      "outputs": [
        {
          "output_type": "stream",
          "name": "stdout",
          "text": [
            "Requirement already satisfied: google-cloud-speech in /usr/local/lib/python3.10/dist-packages (2.22.0)\n",
            "Requirement already satisfied: google-api-core!=2.0.*,!=2.1.*,!=2.10.*,!=2.2.*,!=2.3.*,!=2.4.*,!=2.5.*,!=2.6.*,!=2.7.*,!=2.8.*,!=2.9.*,<3.0.0dev,>=1.34.0 in /usr/local/lib/python3.10/dist-packages (from google-api-core[grpc]!=2.0.*,!=2.1.*,!=2.10.*,!=2.2.*,!=2.3.*,!=2.4.*,!=2.5.*,!=2.6.*,!=2.7.*,!=2.8.*,!=2.9.*,<3.0.0dev,>=1.34.0->google-cloud-speech) (2.11.1)\n",
            "Requirement already satisfied: proto-plus<2.0.0dev,>=1.22.0 in /usr/local/lib/python3.10/dist-packages (from google-cloud-speech) (1.22.3)\n",
            "Requirement already satisfied: protobuf!=3.20.0,!=3.20.1,!=4.21.0,!=4.21.1,!=4.21.2,!=4.21.3,!=4.21.4,!=4.21.5,<5.0.0dev,>=3.19.5 in /usr/local/lib/python3.10/dist-packages (from google-cloud-speech) (3.20.3)\n",
            "Requirement already satisfied: googleapis-common-protos<2.0.dev0,>=1.56.2 in /usr/local/lib/python3.10/dist-packages (from google-api-core!=2.0.*,!=2.1.*,!=2.10.*,!=2.2.*,!=2.3.*,!=2.4.*,!=2.5.*,!=2.6.*,!=2.7.*,!=2.8.*,!=2.9.*,<3.0.0dev,>=1.34.0->google-api-core[grpc]!=2.0.*,!=2.1.*,!=2.10.*,!=2.2.*,!=2.3.*,!=2.4.*,!=2.5.*,!=2.6.*,!=2.7.*,!=2.8.*,!=2.9.*,<3.0.0dev,>=1.34.0->google-cloud-speech) (1.61.0)\n",
            "Requirement already satisfied: google-auth<3.0.dev0,>=2.14.1 in /usr/local/lib/python3.10/dist-packages (from google-api-core!=2.0.*,!=2.1.*,!=2.10.*,!=2.2.*,!=2.3.*,!=2.4.*,!=2.5.*,!=2.6.*,!=2.7.*,!=2.8.*,!=2.9.*,<3.0.0dev,>=1.34.0->google-api-core[grpc]!=2.0.*,!=2.1.*,!=2.10.*,!=2.2.*,!=2.3.*,!=2.4.*,!=2.5.*,!=2.6.*,!=2.7.*,!=2.8.*,!=2.9.*,<3.0.0dev,>=1.34.0->google-cloud-speech) (2.17.3)\n",
            "Requirement already satisfied: requests<3.0.0.dev0,>=2.18.0 in /usr/local/lib/python3.10/dist-packages (from google-api-core!=2.0.*,!=2.1.*,!=2.10.*,!=2.2.*,!=2.3.*,!=2.4.*,!=2.5.*,!=2.6.*,!=2.7.*,!=2.8.*,!=2.9.*,<3.0.0dev,>=1.34.0->google-api-core[grpc]!=2.0.*,!=2.1.*,!=2.10.*,!=2.2.*,!=2.3.*,!=2.4.*,!=2.5.*,!=2.6.*,!=2.7.*,!=2.8.*,!=2.9.*,<3.0.0dev,>=1.34.0->google-cloud-speech) (2.31.0)\n",
            "Requirement already satisfied: grpcio<2.0dev,>=1.33.2 in /usr/local/lib/python3.10/dist-packages (from google-api-core[grpc]!=2.0.*,!=2.1.*,!=2.10.*,!=2.2.*,!=2.3.*,!=2.4.*,!=2.5.*,!=2.6.*,!=2.7.*,!=2.8.*,!=2.9.*,<3.0.0dev,>=1.34.0->google-cloud-speech) (1.59.3)\n",
            "Requirement already satisfied: grpcio-status<2.0.dev0,>=1.33.2 in /usr/local/lib/python3.10/dist-packages (from google-api-core[grpc]!=2.0.*,!=2.1.*,!=2.10.*,!=2.2.*,!=2.3.*,!=2.4.*,!=2.5.*,!=2.6.*,!=2.7.*,!=2.8.*,!=2.9.*,<3.0.0dev,>=1.34.0->google-cloud-speech) (1.48.2)\n",
            "Requirement already satisfied: cachetools<6.0,>=2.0.0 in /usr/local/lib/python3.10/dist-packages (from google-auth<3.0.dev0,>=2.14.1->google-api-core!=2.0.*,!=2.1.*,!=2.10.*,!=2.2.*,!=2.3.*,!=2.4.*,!=2.5.*,!=2.6.*,!=2.7.*,!=2.8.*,!=2.9.*,<3.0.0dev,>=1.34.0->google-api-core[grpc]!=2.0.*,!=2.1.*,!=2.10.*,!=2.2.*,!=2.3.*,!=2.4.*,!=2.5.*,!=2.6.*,!=2.7.*,!=2.8.*,!=2.9.*,<3.0.0dev,>=1.34.0->google-cloud-speech) (5.3.2)\n",
            "Requirement already satisfied: pyasn1-modules>=0.2.1 in /usr/local/lib/python3.10/dist-packages (from google-auth<3.0.dev0,>=2.14.1->google-api-core!=2.0.*,!=2.1.*,!=2.10.*,!=2.2.*,!=2.3.*,!=2.4.*,!=2.5.*,!=2.6.*,!=2.7.*,!=2.8.*,!=2.9.*,<3.0.0dev,>=1.34.0->google-api-core[grpc]!=2.0.*,!=2.1.*,!=2.10.*,!=2.2.*,!=2.3.*,!=2.4.*,!=2.5.*,!=2.6.*,!=2.7.*,!=2.8.*,!=2.9.*,<3.0.0dev,>=1.34.0->google-cloud-speech) (0.3.0)\n",
            "Requirement already satisfied: six>=1.9.0 in /usr/local/lib/python3.10/dist-packages (from google-auth<3.0.dev0,>=2.14.1->google-api-core!=2.0.*,!=2.1.*,!=2.10.*,!=2.2.*,!=2.3.*,!=2.4.*,!=2.5.*,!=2.6.*,!=2.7.*,!=2.8.*,!=2.9.*,<3.0.0dev,>=1.34.0->google-api-core[grpc]!=2.0.*,!=2.1.*,!=2.10.*,!=2.2.*,!=2.3.*,!=2.4.*,!=2.5.*,!=2.6.*,!=2.7.*,!=2.8.*,!=2.9.*,<3.0.0dev,>=1.34.0->google-cloud-speech) (1.16.0)\n",
            "Requirement already satisfied: rsa<5,>=3.1.4 in /usr/local/lib/python3.10/dist-packages (from google-auth<3.0.dev0,>=2.14.1->google-api-core!=2.0.*,!=2.1.*,!=2.10.*,!=2.2.*,!=2.3.*,!=2.4.*,!=2.5.*,!=2.6.*,!=2.7.*,!=2.8.*,!=2.9.*,<3.0.0dev,>=1.34.0->google-api-core[grpc]!=2.0.*,!=2.1.*,!=2.10.*,!=2.2.*,!=2.3.*,!=2.4.*,!=2.5.*,!=2.6.*,!=2.7.*,!=2.8.*,!=2.9.*,<3.0.0dev,>=1.34.0->google-cloud-speech) (4.9)\n",
            "Requirement already satisfied: charset-normalizer<4,>=2 in /usr/local/lib/python3.10/dist-packages (from requests<3.0.0.dev0,>=2.18.0->google-api-core!=2.0.*,!=2.1.*,!=2.10.*,!=2.2.*,!=2.3.*,!=2.4.*,!=2.5.*,!=2.6.*,!=2.7.*,!=2.8.*,!=2.9.*,<3.0.0dev,>=1.34.0->google-api-core[grpc]!=2.0.*,!=2.1.*,!=2.10.*,!=2.2.*,!=2.3.*,!=2.4.*,!=2.5.*,!=2.6.*,!=2.7.*,!=2.8.*,!=2.9.*,<3.0.0dev,>=1.34.0->google-cloud-speech) (3.3.2)\n",
            "Requirement already satisfied: idna<4,>=2.5 in /usr/local/lib/python3.10/dist-packages (from requests<3.0.0.dev0,>=2.18.0->google-api-core!=2.0.*,!=2.1.*,!=2.10.*,!=2.2.*,!=2.3.*,!=2.4.*,!=2.5.*,!=2.6.*,!=2.7.*,!=2.8.*,!=2.9.*,<3.0.0dev,>=1.34.0->google-api-core[grpc]!=2.0.*,!=2.1.*,!=2.10.*,!=2.2.*,!=2.3.*,!=2.4.*,!=2.5.*,!=2.6.*,!=2.7.*,!=2.8.*,!=2.9.*,<3.0.0dev,>=1.34.0->google-cloud-speech) (3.6)\n",
            "Requirement already satisfied: urllib3<3,>=1.21.1 in /usr/local/lib/python3.10/dist-packages (from requests<3.0.0.dev0,>=2.18.0->google-api-core!=2.0.*,!=2.1.*,!=2.10.*,!=2.2.*,!=2.3.*,!=2.4.*,!=2.5.*,!=2.6.*,!=2.7.*,!=2.8.*,!=2.9.*,<3.0.0dev,>=1.34.0->google-api-core[grpc]!=2.0.*,!=2.1.*,!=2.10.*,!=2.2.*,!=2.3.*,!=2.4.*,!=2.5.*,!=2.6.*,!=2.7.*,!=2.8.*,!=2.9.*,<3.0.0dev,>=1.34.0->google-cloud-speech) (2.0.7)\n",
            "Requirement already satisfied: certifi>=2017.4.17 in /usr/local/lib/python3.10/dist-packages (from requests<3.0.0.dev0,>=2.18.0->google-api-core!=2.0.*,!=2.1.*,!=2.10.*,!=2.2.*,!=2.3.*,!=2.4.*,!=2.5.*,!=2.6.*,!=2.7.*,!=2.8.*,!=2.9.*,<3.0.0dev,>=1.34.0->google-api-core[grpc]!=2.0.*,!=2.1.*,!=2.10.*,!=2.2.*,!=2.3.*,!=2.4.*,!=2.5.*,!=2.6.*,!=2.7.*,!=2.8.*,!=2.9.*,<3.0.0dev,>=1.34.0->google-cloud-speech) (2023.11.17)\n",
            "Requirement already satisfied: pyasn1<0.6.0,>=0.4.6 in /usr/local/lib/python3.10/dist-packages (from pyasn1-modules>=0.2.1->google-auth<3.0.dev0,>=2.14.1->google-api-core!=2.0.*,!=2.1.*,!=2.10.*,!=2.2.*,!=2.3.*,!=2.4.*,!=2.5.*,!=2.6.*,!=2.7.*,!=2.8.*,!=2.9.*,<3.0.0dev,>=1.34.0->google-api-core[grpc]!=2.0.*,!=2.1.*,!=2.10.*,!=2.2.*,!=2.3.*,!=2.4.*,!=2.5.*,!=2.6.*,!=2.7.*,!=2.8.*,!=2.9.*,<3.0.0dev,>=1.34.0->google-cloud-speech) (0.5.1)\n",
            "\u001b[33mWARNING: Running pip as the 'root' user can result in broken permissions and conflicting behaviour with the system package manager. It is recommended to use a virtual environment instead: https://pip.pypa.io/warnings/venv\u001b[0m\u001b[33m\n",
            "\u001b[0m"
          ]
        }
      ]
    },
    {
      "cell_type": "code",
      "source": [
        "!pip install --upgrade pip"
      ],
      "metadata": {
        "colab": {
          "base_uri": "https://localhost:8080/"
        },
        "id": "fgIdRlqebrYQ",
        "outputId": "18a704d5-4d1c-4244-f257-07a490731ab5"
      },
      "execution_count": 61,
      "outputs": [
        {
          "output_type": "stream",
          "name": "stdout",
          "text": [
            "Requirement already satisfied: pip in /usr/local/lib/python3.10/dist-packages (23.3.1)\n",
            "\u001b[33mWARNING: Running pip as the 'root' user can result in broken permissions and conflicting behaviour with the system package manager. It is recommended to use a virtual environment instead: https://pip.pypa.io/warnings/venv\u001b[0m\u001b[33m\n",
            "\u001b[0m"
          ]
        }
      ]
    },
    {
      "cell_type": "code",
      "source": [
        "!pip install pytube"
      ],
      "metadata": {
        "colab": {
          "base_uri": "https://localhost:8080/"
        },
        "id": "kFUpTC-gcW_3",
        "outputId": "54be08d3-b24b-4ef5-dec8-ba3a5329237f"
      },
      "execution_count": 62,
      "outputs": [
        {
          "output_type": "stream",
          "name": "stdout",
          "text": [
            "Requirement already satisfied: pytube in /usr/local/lib/python3.10/dist-packages (15.0.0)\n",
            "\u001b[33mWARNING: Running pip as the 'root' user can result in broken permissions and conflicting behaviour with the system package manager. It is recommended to use a virtual environment instead: https://pip.pypa.io/warnings/venv\u001b[0m\u001b[33m\n",
            "\u001b[0m"
          ]
        }
      ]
    },
    {
      "cell_type": "code",
      "source": [
        "!pip install moviepy"
      ],
      "metadata": {
        "colab": {
          "base_uri": "https://localhost:8080/"
        },
        "id": "gsEVMmx-cYEk",
        "outputId": "72ddcd35-88b6-451e-8263-12da9c299ef1"
      },
      "execution_count": 63,
      "outputs": [
        {
          "output_type": "stream",
          "name": "stdout",
          "text": [
            "Requirement already satisfied: moviepy in /usr/local/lib/python3.10/dist-packages (1.0.3)\n",
            "Requirement already satisfied: decorator<5.0,>=4.0.2 in /usr/local/lib/python3.10/dist-packages (from moviepy) (4.4.2)\n",
            "Requirement already satisfied: tqdm<5.0,>=4.11.2 in /usr/local/lib/python3.10/dist-packages (from moviepy) (4.66.1)\n",
            "Requirement already satisfied: requests<3.0,>=2.8.1 in /usr/local/lib/python3.10/dist-packages (from moviepy) (2.31.0)\n",
            "Requirement already satisfied: proglog<=1.0.0 in /usr/local/lib/python3.10/dist-packages (from moviepy) (0.1.10)\n",
            "Requirement already satisfied: numpy>=1.17.3 in /usr/local/lib/python3.10/dist-packages (from moviepy) (1.23.5)\n",
            "Requirement already satisfied: imageio<3.0,>=2.5 in /usr/local/lib/python3.10/dist-packages (from moviepy) (2.31.6)\n",
            "Requirement already satisfied: imageio-ffmpeg>=0.2.0 in /usr/local/lib/python3.10/dist-packages (from moviepy) (0.4.9)\n",
            "Requirement already satisfied: pillow<10.1.0,>=8.3.2 in /usr/local/lib/python3.10/dist-packages (from imageio<3.0,>=2.5->moviepy) (9.4.0)\n",
            "Requirement already satisfied: setuptools in /usr/local/lib/python3.10/dist-packages (from imageio-ffmpeg>=0.2.0->moviepy) (67.7.2)\n",
            "Requirement already satisfied: charset-normalizer<4,>=2 in /usr/local/lib/python3.10/dist-packages (from requests<3.0,>=2.8.1->moviepy) (3.3.2)\n",
            "Requirement already satisfied: idna<4,>=2.5 in /usr/local/lib/python3.10/dist-packages (from requests<3.0,>=2.8.1->moviepy) (3.6)\n",
            "Requirement already satisfied: urllib3<3,>=1.21.1 in /usr/local/lib/python3.10/dist-packages (from requests<3.0,>=2.8.1->moviepy) (2.0.7)\n",
            "Requirement already satisfied: certifi>=2017.4.17 in /usr/local/lib/python3.10/dist-packages (from requests<3.0,>=2.8.1->moviepy) (2023.11.17)\n",
            "\u001b[33mWARNING: Running pip as the 'root' user can result in broken permissions and conflicting behaviour with the system package manager. It is recommended to use a virtual environment instead: https://pip.pypa.io/warnings/venv\u001b[0m\u001b[33m\n",
            "\u001b[0m"
          ]
        }
      ]
    },
    {
      "cell_type": "code",
      "source": [
        "from pytube import YouTube\n",
        "from langchain.document_loaders.generic import Document\n",
        "from langchain.document_loaders.blob_loaders import BlobLoader\n",
        "from moviepy.editor import AudioFileClip  # Change the import\n",
        "from langchain.document_loaders.blob_loaders import FileSystemBlobLoader\n",
        "import os\n",
        "\n",
        "#this part takes the link and downloads it and prints the path\n",
        "url = \"https://www.youtube.com/watch?v=-qReeg7imGc&t=1s\"\n",
        "save_dir = \"/content/drive/My Drive/Colab Notebooks/Prompt Engineering/LangChain Chat with Your Data/\"\n",
        "\n",
        "# Download the video using Pytube\n",
        "yt = YouTube(url)\n",
        "video = yt.streams.filter(file_extension='mp4', only_audio=True).first()  # Specify file extension\n",
        "video.download(output_path=save_dir)\n",
        "\n",
        "# Print the downloaded file path\n",
        "downloaded_file_path = os.path.join(save_dir, f\"{yt.title}.mp4\")\n",
        "print(\"Downloaded file path:\", downloaded_file_path)\n",
        "\n",
        "#This part coverts it into an audio\n",
        "# Convert the downloaded mp4 file to mp3 using AudioFileClip\n",
        "audio_clip = AudioFileClip(downloaded_file_path)  # Specify fps directly\n",
        "audio_clip.write_audiofile(os.path.join(save_dir, f\"{yt.title}.mp3\"))\n",
        "\n",
        "mp3_file_path = os.path.join(save_dir, f\"{yt.title}.mp3\")"
      ],
      "metadata": {
        "colab": {
          "base_uri": "https://localhost:8080/"
        },
        "id": "Dow2gtOtcBYd",
        "outputId": "0220acc8-02af-4ba5-fae9-fb9252ae5a33"
      },
      "execution_count": 64,
      "outputs": [
        {
          "output_type": "stream",
          "name": "stdout",
          "text": [
            "Downloaded file path: /content/drive/My Drive/Colab Notebooks/Prompt Engineering/LangChain Chat with Your Data/7 AI Tools That WILL Make You RICH.mp4\n",
            "MoviePy - Writing audio in /content/drive/My Drive/Colab Notebooks/Prompt Engineering/LangChain Chat with Your Data/7 AI Tools That WILL Make You RICH.mp3\n"
          ]
        },
        {
          "output_type": "stream",
          "name": "stderr",
          "text": [
            "                                                                       "
          ]
        },
        {
          "output_type": "stream",
          "name": "stdout",
          "text": [
            "MoviePy - Done.\n"
          ]
        },
        {
          "output_type": "stream",
          "name": "stderr",
          "text": [
            "\r"
          ]
        }
      ]
    },
    {
      "cell_type": "code",
      "source": [
        "import os\n",
        "from google.colab import drive\n",
        "drive.mount('/content/drive')"
      ],
      "metadata": {
        "colab": {
          "base_uri": "https://localhost:8080/"
        },
        "id": "Cz1k4vDqpdbd",
        "outputId": "932f01c8-957c-46c9-ebc6-abdef1b5fbf7"
      },
      "execution_count": 65,
      "outputs": [
        {
          "output_type": "stream",
          "name": "stdout",
          "text": [
            "Drive already mounted at /content/drive; to attempt to forcibly remount, call drive.mount(\"/content/drive\", force_remount=True).\n"
          ]
        }
      ]
    },
    {
      "cell_type": "code",
      "source": [
        "key_path= os.path.abspath(r\"/content/drive/MyDrive/ai-final-project-406013-de6f0227d24d.json\")\n",
        "# Set the environment variable\n",
        "os.environ[\"GOOGLE_APPLICATION_CREDENTIALS\"] = key_path"
      ],
      "metadata": {
        "id": "1QINmARppubT"
      },
      "execution_count": 66,
      "outputs": []
    },
    {
      "cell_type": "code",
      "source": [
        "# Specify the path to the audio file\n",
        "audio_file_path =mp3_file_path"
      ],
      "metadata": {
        "id": "rnmGa76pomL1"
      },
      "execution_count": 67,
      "outputs": []
    },
    {
      "cell_type": "code",
      "source": [
        "from google.cloud import speech_v1p1beta1 as speech\n",
        "from google.cloud import storage\n",
        "\n",
        "# Upload the audio file to Google Cloud Storage\n",
        "bucket_name = \"ai-final-project-bucket\"\n",
        "gcs_file_name = f\"{yt.title}.mp3\"  # Use the desired file name in GCS\n",
        "gcs_uri = f\"gs://{bucket_name}/{gcs_file_name}\"\n",
        "\n",
        "client = storage.Client()\n",
        "bucket = client.bucket(bucket_name)\n",
        "blob = bucket.blob(gcs_file_name)\n",
        "blob.upload_from_filename(audio_file_path)"
      ],
      "metadata": {
        "id": "oCO2bpXqsNEA"
      },
      "execution_count": 68,
      "outputs": []
    },
    {
      "cell_type": "code",
      "source": [
        "!pip install assemblyai"
      ],
      "metadata": {
        "colab": {
          "base_uri": "https://localhost:8080/"
        },
        "id": "1b79H85VdBJL",
        "outputId": "c6554429-cc9d-40c0-cf78-dc34b30e2ec8"
      },
      "execution_count": 69,
      "outputs": [
        {
          "output_type": "stream",
          "name": "stdout",
          "text": [
            "Requirement already satisfied: assemblyai in /usr/local/lib/python3.10/dist-packages (0.20.0)\n",
            "Requirement already satisfied: httpx>=0.19.0 in /usr/local/lib/python3.10/dist-packages (from assemblyai) (0.25.2)\n",
            "Requirement already satisfied: pydantic!=1.10.7,>=1.7.0 in /usr/local/lib/python3.10/dist-packages (from assemblyai) (1.10.13)\n",
            "Requirement already satisfied: typing-extensions>=3.7 in /usr/local/lib/python3.10/dist-packages (from assemblyai) (4.5.0)\n",
            "Requirement already satisfied: websockets>=11.0 in /usr/local/lib/python3.10/dist-packages (from assemblyai) (12.0)\n",
            "Requirement already satisfied: anyio in /usr/local/lib/python3.10/dist-packages (from httpx>=0.19.0->assemblyai) (3.7.1)\n",
            "Requirement already satisfied: certifi in /usr/local/lib/python3.10/dist-packages (from httpx>=0.19.0->assemblyai) (2023.11.17)\n",
            "Requirement already satisfied: httpcore==1.* in /usr/local/lib/python3.10/dist-packages (from httpx>=0.19.0->assemblyai) (1.0.2)\n",
            "Requirement already satisfied: idna in /usr/local/lib/python3.10/dist-packages (from httpx>=0.19.0->assemblyai) (3.6)\n",
            "Requirement already satisfied: sniffio in /usr/local/lib/python3.10/dist-packages (from httpx>=0.19.0->assemblyai) (1.3.0)\n",
            "Requirement already satisfied: h11<0.15,>=0.13 in /usr/local/lib/python3.10/dist-packages (from httpcore==1.*->httpx>=0.19.0->assemblyai) (0.14.0)\n",
            "Requirement already satisfied: exceptiongroup in /usr/local/lib/python3.10/dist-packages (from anyio->httpx>=0.19.0->assemblyai) (1.2.0)\n",
            "\u001b[33mWARNING: Running pip as the 'root' user can result in broken permissions and conflicting behaviour with the system package manager. It is recommended to use a virtual environment instead: https://pip.pypa.io/warnings/venv\u001b[0m\u001b[33m\n",
            "\u001b[0m"
          ]
        }
      ]
    },
    {
      "cell_type": "code",
      "source": [
        "import assemblyai as aai\n",
        "import os"
      ],
      "metadata": {
        "id": "CpVSTIrofbil"
      },
      "execution_count": 70,
      "outputs": []
    },
    {
      "cell_type": "code",
      "source": [
        "aai.settings.api_key = f\"2e1a0f6f18d64f81af1402321dc51367\""
      ],
      "metadata": {
        "id": "67SjMph_515C"
      },
      "execution_count": 71,
      "outputs": []
    },
    {
      "cell_type": "code",
      "source": [
        "transcriber = aai.Transcriber()"
      ],
      "metadata": {
        "id": "n5-liBrg5O_m"
      },
      "execution_count": 72,
      "outputs": []
    },
    {
      "cell_type": "code",
      "source": [
        "audio_url = (\n",
        "    \"https://storage.googleapis.com/ai-final-project-bucket/7%20AI%20Tools%20That%20WILL%20Make%20You%20RICH.mp3\"\n",
        ")"
      ],
      "metadata": {
        "id": "Ff39-6Xu6HDP"
      },
      "execution_count": 73,
      "outputs": []
    },
    {
      "cell_type": "code",
      "source": [
        "config = aai.TranscriptionConfig(speaker_labels=True)"
      ],
      "metadata": {
        "id": "LDtXgFAP6Q0T"
      },
      "execution_count": 74,
      "outputs": []
    },
    {
      "cell_type": "code",
      "source": [
        "transcript = transcriber.transcribe(audio_url, config)"
      ],
      "metadata": {
        "id": "JQBfkdlF6Zw5"
      },
      "execution_count": 75,
      "outputs": []
    },
    {
      "cell_type": "code",
      "source": [
        "print(transcript.text)\n",
        "\n",
        "for utterance in transcript.utterances:\n",
        "    print(f\"Speaker {utterance.speaker}: {utterance.text}\")"
      ],
      "metadata": {
        "colab": {
          "base_uri": "https://localhost:8080/"
        },
        "id": "uS-VHLiQ6fRu",
        "outputId": "e863cca0-6729-4bb7-848a-5aab4bf0d678"
      },
      "execution_count": 76,
      "outputs": [
        {
          "output_type": "stream",
          "name": "stdout",
          "text": [
            "Listen to me very closely because you have two choices when it comes to AI. You can either adopt it or you can get left behind. But here's the problem with all the news coming out about AI, seemingly every new AI will be the next big thing that will take everyone to the next level. But that's simply not true. Here's the reality of the situation. Most of the AI tools that everyone swears by will not help you in any meaningful way. I mean, sure, they're cool, they're nice to have, but besides that, they're not really going to help you. Now, here's what I mean. An AI tool should either make you more money or it should save you more time. AI tools should make your workflow seamless, not add complexity to them. So in today's video, I'm going to give you the seven AI tools in order to do that. Now, the first AI tools that have the potential to make you lots of money and save you lots of time are Tenweb, IO and Durable. Co. Now, back in the day, creating a website required a lot of skills and training. I mean, you needed to be proficient in several coding languages and you also had to design everything. And then you needed to write each piece of code manually. And only then would you be able to actually fill in the page with your copy. I mean, this entire process could take weeks, sometimes even months, depending on the complexity of the website. It was a long, arduous, and most importantly, expensive process. And in the late 90s, even the most basic website could cost upwards of $20,000. Then came tools like WordPress and later Wix and shopify. And these tools drastically brought costs down. And all of a sudden, most people could build at least a very basic website. But even since these came out in, the problem has still remained time. No matter how you put it, building a good website, however simple, will still take a long time. I mean, sure, nowadays you don't have to code everything yourself. You can kind of just put in whatever you want into the website builder. But even then, it still takes time. It takes time to get the design right. It takes time to write the copy. It even takes time to learn how to use the website builders themselves. So much so that agencies and contractors will offer to do it for you. And let's be honest, lots of the custom websites are actually just slightly improved versions of basic wix templates. So that's really all to say that building websites isn't easy and it isn't quick. And that's really where AI comes into the picture. With tools like Tenweb, IO and Durable, you can use AI to build your entire website for you. AI will design it, build it, write copy, and even source and insert the imagery. And in a matter of minutes, you can go from having no website to having a fully functioning and aesthetically pleasing website. All you need to do is give AI some basic information and that's it. A few minutes answering prompts f that and you'll also be able to take advantage of features like built in SEO and AI recreation. AI recreation allows you to feed the AI websites you like, and it can recreate similar websites for you. Now of course, once made, you can edit whatever you want and even have the tool regenerate the site until it's to your perfection and your liking. So you can either use these AI tools in your own business, or you can even start businesses around them. You see, tons of people are paying freelancers a few hundred dollars to make really basic websites. And with these tools, you can blow those freelancers out of the water in a matter of minutes and even command higher prices while doing so. These are perfect examples of how AI tools can both save time and make you money. Now, over the years, our attention span has gone shorter and shorter, and creators have to grab attention faster and faster. And that eventually led to our current reality, where short form content is king. Now, there's multiple ways to go about short form, and I would know because over the last year, I've had 20 full time editors full, full time, strictly doing short form content for me. Now, obviously, that's super expensive. We have a full department for it, we have a department lead, and it's simply not an option for most people. And that's where tools like Opusclip become extremely useful. You see, Opus Clip is able to take any long form video and with one click, turn your long form content into short form content. Now, the best part about this tool is that the AI is able to find the best hooks in the video and piece them together with the relevant highlights to pretty much cut out all of the boring stuff. And that means that your chances of virality are much, much higher. And the AI copilot also allows you to clip parts of a video based on keywords. Now, this is easily one of the highest ROI tools on this list, especially considering how prevalent short form content is. And you know as well as I've that short form is not going anywhere. Tools like Opus Clip can not only save you time in editing and money in hiring, but you can also build a business around it. Of course, by now the industry is no stranger to short form agencies. But just because there are plenty of them doesn't mean that they no longer work. That means that tools like Opus can actually make you tons and tons of money and attract millions and millions of eyeballs. Now, the next AI tool helps you save time and actually simplifies your workflow using Chat GPT Writer. Now, Chat GBT Writer is so simple, yet such a no brainer. And here's why. Now, you'll remember that when Chat GPT first became the talk of the town, one of the prime use cases for AI was to do simple writing tasks. But there's one slight problem. By the time that you get an email open, Chat GPT copy and paste the email, write the prompt to read and reply to email. Once you set up all those fundamentals by that time frame, it probably would have been quicker to just reply to the email yourself. And that's where Chat GPT writer comes in. It's a simple Chat GPT based Chrome extension that alleviates all of that friction with using AI to reply to emails. It's incredibly simple, yet very effective in saving time in the long run. Now, next I want to talk about Tidyo. Now, Tidio's AI Liro has the power to either assist or entirely replace your support team and doing all that whilst boosting sales on your website. And obviously this means that you either save money by hiring less staff or make more money by providing a better customer experience. And both of those lead to the same outcome, which is more net income in your pocket. Now, Tidyo AI is essentially an AIpowered chat bot that can do two things. It either replaces lengthy, frequently asked questions and answers customers questions in a matter of seconds. So that means that you can easily increase your site's conversion rates by making the customer journey so much more seamless. Because listen, instead of clogging the website with tons of frequently asked questions and still having loads of questions unanswered, you can now feed all of that information into AI, which can then answer all of your customers queries. The AI can also answer more advanced queries like order, fulfillment or restocks by tapping into the database. Now, the second thing the AI allows is for human customer support team to work faster and better. You see, here's the thing. Tidyo is a text based AI, which means it can take your support agents quick and rough replies and turn them into full sentences that are on par with your company's branding. But if your customer asks a question that's beyond the scope of the AI's knowledge base, then it will automatically refer them to a human agent. Now, here's the interesting part. Lero can answer 70% of your customers questions. That means that your support system can service more people in less time. And as I said, the result is happier customers and ultimately more sales. So the next AI tool will be useful for just about anyone and have the potential to save tons of time. Now, have you ever read through a seemingly endless contract or some other lengthy document? Now, maybe you had to do some reading for a class, or maybe you needed to read some other brief or report for work. Well, if you've ever been in a situation where you had to read a long document, then docuask can save you a ton of time. Because with Docuask, you no longer need to read those long Arduous documents. You see, there are plenty of tools that summarize text, chat, GPT can even do that. But the issue with the summaries is that they're only that summaries. That means that you will inevitably miss important fine details. But if you know what to look for, well then you can use Docus. Because Docus takes any document and analyzes it. So you can simply ask questions about it in a chat box. Listen, here's the thing. Extracting information from documents literally could not be easier. So you no longer need to spend hours and hours scouring through documents. You can simply use AI. Now, the next AI is one that I've mentioned in a previous video, but it may just be the most useful AI on this list. And that's Microsoft's Copilot. Copilot directly complements Microsoft's entire suite of products. That means it's able to do everything from analyzing Excel spreadsheets to making full blown PowerPoints. I mean, Copilot can even transcribe notes during a Microsoft team meeting and provide you with a summary of the key points and action items and even execute on the actions itself. So let's say one of those action items was to make a presentation. Copilot is able to create a tailor made presentation to your desired branding guidelines. I mean, we've all made a PowerPoint presentation before. That alone could literally save you hours. Copilot also knows your calendar and therefore can prepare you for upcoming meetings. It can even generate reports and other Word documents based on previous work. And of course, it can also reply to all of your emails for you. Copilot is one of the best examples of AI making your workflow more seamless and more efficient. It's an AI tool that anyone can take advantage of regardless of their occupation. And especially if you ever use one of Microsoft's products, well then Copilot will be useful to you. Whether you need to make a pitch deck for your clients or analyze last quarter's profitability, copilot can help. Now, the last tool I want to talk about is Adobe Firefly. Because Adobe Firefly is one of the craziest AI tools yet. You see, most of the other tools on this list simply save you time or money by doing tasks for you. For example, tenweb and Durable make websites for you tidyo answers your customers questions and they basically give you leverage. Leverage is really what makes AI so powerful to begin with. You see, prior to AI, you'd have to spend hours on a task or spend money to hire someone to spend hours on that exact task. Now, well, now you essentially have an employee for a fraction of the cost. But Adobe Firefly doesn't fall under that same umbrella. You see, Adobe Firefly actually allows you to do things that otherwise would never have been possible. And in the process of that, this AI is incredibly valuable. Not only can you make it make your work easier, but you can also make it a hundred times better, which, of course, will make you more money. So let me explain how it works. Firefly is a generative AIpowered content creation tool. That means it can simply create things. So let's look at three examples and how it can help you. Firefly can create realistic images from detailed text. And this is incredibly useful if you need any sort of product photography or any other scenario where you need to depict something. Now, normally, you need a whole team of graphic designers and artists, whereas now you can simply ask the AI to do it for you. And that means that you're able to elevate your work drastically without elevating your costs. The second thing is, Firefly has something called generative fill, and that means that it can either draw in or erase objects in a photo. So if you want to wear a different outfit in a certain photo, this AI can do that for you. It can do things that would otherwise be impossible or would have taken a Photoshop expert to do. Even then, Firefly does in a way that looks completely natural. It can also turn your sketches into photorealistic images and so much more. So if you work with any sort of content creation, firefly will be a must have tool, both for easy fixes and for exploring completely new ideas. And soon, Firefly will even be able to generate images from 3D elements. Now, here's the bottom line. This AI revolution we're in is no different from any other technological revolution. And as with any boom, there will be an inevitable bust. The key here is to be able to discern what's to stay and what isn't, and then to capitalize on the trends that are here to stay. And now that you have these seven tools to help you make money and save time, all you need to do is get to work. And as always, I'll be watching from afar. And I'm rooting for you.\n",
            "Speaker A: Listen to me very closely because you have two choices when it comes to AI. You can either adopt it or you can get left behind. But here's the problem with all the news coming out about AI, seemingly every new AI will be the next big thing that will take everyone to the next level. But that's simply not true. Here's the reality of the situation. Most of the AI tools that everyone swears by will not help you in any meaningful way. I mean, sure, they're cool, they're nice to have, but besides that, they're not really going to help you. Now, here's what I mean. An AI tool should either make you more money or it should save you more time. AI tools should make your workflow seamless, not add complexity to them. So in today's video, I'm going to give you the seven AI tools in order to do that. Now, the first AI tools that have the potential to make you lots of money and save you lots of time are Tenweb, IO and Durable. Co. Now, back in the day, creating a website required a lot of skills and training. I mean, you needed to be proficient in several coding languages and you also had to design everything. And then you needed to write each piece of code manually. And only then would you be able to actually fill in the page with your copy. I mean, this entire process could take weeks, sometimes even months, depending on the complexity of the website. It was a long, arduous, and most importantly, expensive process. And in the late 90s, even the most basic website could cost upwards of $20,000. Then came tools like WordPress and later Wix and shopify. And these tools drastically brought costs down. And all of a sudden, most people could build at least a very basic website. But even since these came out in, the problem has still remained time. No matter how you put it, building a good website, however simple, will still take a long time. I mean, sure, nowadays you don't have to code everything yourself. You can kind of just put in whatever you want into the website builder. But even then, it still takes time. It takes time to get the design right. It takes time to write the copy. It even takes time to learn how to use the website builders themselves. So much so that agencies and contractors will offer to do it for you. And let's be honest, lots of the custom websites are actually just slightly improved versions of basic wix templates. So that's really all to say that building websites isn't easy and it isn't quick. And that's really where AI comes into the picture. With tools like Tenweb, IO and Durable, you can use AI to build your entire website for you. AI will design it, build it, write copy, and even source and insert the imagery. And in a matter of minutes, you can go from having no website to having a fully functioning and aesthetically pleasing website. All you need to do is give AI some basic information and that's it. A few minutes answering prompts f that and you'll also be able to take advantage of features like built in SEO and AI recreation. AI recreation allows you to feed the AI websites you like, and it can recreate similar websites for you. Now of course, once made, you can edit whatever you want and even have the tool regenerate the site until it's to your perfection and your liking. So you can either use these AI tools in your own business, or you can even start businesses around them. You see, tons of people are paying freelancers a few hundred dollars to make really basic websites. And with these tools, you can blow those freelancers out of the water in a matter of minutes and even command higher prices while doing so. These are perfect examples of how AI tools can both save time and make you money. Now, over the years, our attention span has gone shorter and shorter, and creators have to grab attention faster and faster. And that eventually led to our current reality, where short form content is king. Now, there's multiple ways to go about short form, and I would know because over the last year, I've had 20 full time editors full, full time, strictly doing short form content for me. Now, obviously, that's super expensive. We have a full department for it, we have a department lead, and it's simply not an option for most people. And that's where tools like Opusclip become extremely useful. You see, Opus Clip is able to take any long form video and with one click, turn your long form content into short form content. Now, the best part about this tool is that the AI is able to find the best hooks in the video and piece them together with the relevant highlights to pretty much cut out all of the boring stuff. And that means that your chances of virality are much, much higher. And the AI copilot also allows you to clip parts of a video based on keywords. Now, this is easily one of the highest ROI tools on this list, especially considering how prevalent short form content is. And you know as well as I've that short form is not going anywhere. Tools like Opus Clip can not only save you time in editing and money in hiring, but you can also build a business around it. Of course, by now the industry is no stranger to short form agencies. But just because there are plenty of them doesn't mean that they no longer work. That means that tools like Opus can actually make you tons and tons of money and attract millions and millions of eyeballs. Now, the next AI tool helps you save time and actually simplifies your workflow using Chat GPT Writer. Now, Chat GBT Writer is so simple, yet such a no brainer. And here's why. Now, you'll remember that when Chat GPT first became the talk of the town, one of the prime use cases for AI was to do simple writing tasks. But there's one slight problem. By the time that you get an email open, Chat GPT copy and paste the email, write the prompt to read and reply to email. Once you set up all those fundamentals by that time frame, it probably would have been quicker to just reply to the email yourself. And that's where Chat GPT writer comes in. It's a simple Chat GPT based Chrome extension that alleviates all of that friction with using AI to reply to emails. It's incredibly simple, yet very effective in saving time in the long run. Now, next I want to talk about Tidyo. Now, Tidio's AI Liro has the power to either assist or entirely replace your support team and doing all that whilst boosting sales on your website. And obviously this means that you either save money by hiring less staff or make more money by providing a better customer experience. And both of those lead to the same outcome, which is more net income in your pocket. Now, Tidyo AI is essentially an AIpowered chat bot that can do two things. It either replaces lengthy, frequently asked questions and answers customers questions in a matter of seconds. So that means that you can easily increase your site's conversion rates by making the customer journey so much more seamless. Because listen, instead of clogging the website with tons of frequently asked questions and still having loads of questions unanswered, you can now feed all of that information into AI, which can then answer all of your customers queries. The AI can also answer more advanced queries like order, fulfillment or restocks by tapping into the database. Now, the second thing the AI allows is for human customer support team to work faster and better. You see, here's the thing. Tidyo is a text based AI, which means it can take your support agents quick and rough replies and turn them into full sentences that are on par with your company's branding. But if your customer asks a question that's beyond the scope of the AI's knowledge base, then it will automatically refer them to a human agent. Now, here's the interesting part. Lero can answer 70% of your customers questions. That means that your support system can service more people in less time. And as I said, the result is happier customers and ultimately more sales. So the next AI tool will be useful for just about anyone and have the potential to save tons of time. Now, have you ever read through a seemingly endless contract or some other lengthy document? Now, maybe you had to do some reading for a class, or maybe you needed to read some other brief or report for work. Well, if you've ever been in a situation where you had to read a long document, then docuask can save you a ton of time. Because with Docuask, you no longer need to read those long Arduous documents. You see, there are plenty of tools that summarize text, chat, GPT can even do that. But the issue with the summaries is that they're only that summaries. That means that you will inevitably miss important fine details. But if you know what to look for, well then you can use Docus. Because Docus takes any document and analyzes it. So you can simply ask questions about it in a chat box. Listen, here's the thing. Extracting information from documents literally could not be easier. So you no longer need to spend hours and hours scouring through documents. You can simply use AI. Now, the next AI is one that I've mentioned in a previous video, but it may just be the most useful AI on this list. And that's Microsoft's Copilot. Copilot directly complements Microsoft's entire suite of products. That means it's able to do everything from analyzing Excel spreadsheets to making full blown PowerPoints. I mean, Copilot can even transcribe notes during a Microsoft team meeting and provide you with a summary of the key points and action items and even execute on the actions itself. So let's say one of those action items was to make a presentation. Copilot is able to create a tailor made presentation to your desired branding guidelines. I mean, we've all made a PowerPoint presentation before. That alone could literally save you hours. Copilot also knows your calendar and therefore can prepare you for upcoming meetings. It can even generate reports and other Word documents based on previous work. And of course, it can also reply to all of your emails for you. Copilot is one of the best examples of AI making your workflow more seamless and more efficient. It's an AI tool that anyone can take advantage of regardless of their occupation. And especially if you ever use one of Microsoft's products, well then Copilot will be useful to you. Whether you need to make a pitch deck for your clients or analyze last quarter's profitability, copilot can help. Now, the last tool I want to talk about is Adobe Firefly. Because Adobe Firefly is one of the craziest AI tools yet. You see, most of the other tools on this list simply save you time or money by doing tasks for you. For example, tenweb and Durable make websites for you tidyo answers your customers questions and they basically give you leverage. Leverage is really what makes AI so powerful to begin with. You see, prior to AI, you'd have to spend hours on a task or spend money to hire someone to spend hours on that exact task. Now, well, now you essentially have an employee for a fraction of the cost. But Adobe Firefly doesn't fall under that same umbrella. You see, Adobe Firefly actually allows you to do things that otherwise would never have been possible. And in the process of that, this AI is incredibly valuable. Not only can you make it make your work easier, but you can also make it a hundred times better, which, of course, will make you more money. So let me explain how it works. Firefly is a generative AIpowered content creation tool. That means it can simply create things. So let's look at three examples and how it can help you. Firefly can create realistic images from detailed text. And this is incredibly useful if you need any sort of product photography or any other scenario where you need to depict something. Now, normally, you need a whole team of graphic designers and artists, whereas now you can simply ask the AI to do it for you. And that means that you're able to elevate your work drastically without elevating your costs. The second thing is, Firefly has something called generative fill, and that means that it can either draw in or erase objects in a photo. So if you want to wear a different outfit in a certain photo, this AI can do that for you. It can do things that would otherwise be impossible or would have taken a Photoshop expert to do. Even then, Firefly does in a way that looks completely natural. It can also turn your sketches into photorealistic images and so much more. So if you work with any sort of content creation, firefly will be a must have tool, both for easy fixes and for exploring completely new ideas. And soon, Firefly will even be able to generate images from 3D elements. Now, here's the bottom line. This AI revolution we're in is no different from any other technological revolution. And as with any boom, there will be an inevitable bust. The key here is to be able to discern what's to stay and what isn't, and then to capitalize on the trends that are here to stay. And now that you have these seven tools to help you make money and save time, all you need to do is get to work. And as always, I'll be watching from afar. And I'm rooting for you.\n"
          ]
        }
      ]
    },
    {
      "cell_type": "code",
      "source": [
        "#summarizing provides a condensed summary of the entire audio content\n",
        "config = aai.TranscriptionConfig(\n",
        "  summarization=True,\n",
        "  summary_model=aai.SummarizationModel.informative,\n",
        "  summary_type=aai.SummarizationType.bullets\n",
        ")\n",
        "\n",
        "transcript = aai.Transcriber().transcribe(audio_url, config)\n",
        "\n",
        "print(transcript.summary)"
      ],
      "metadata": {
        "id": "ATlF8lJg_ggU",
        "colab": {
          "base_uri": "https://localhost:8080/"
        },
        "outputId": "0a62d093-5517-40bd-faad-a9b858c1059c"
      },
      "execution_count": 77,
      "outputs": [
        {
          "output_type": "stream",
          "name": "stdout",
          "text": [
            "- An AI tool should either make you more money or save you more time. With tools like Tenweb, IO and Durable, you can use AI to build your entire website for you. These are perfect examples of how AI tools can both save time and make you money.\n",
            "- Chat GPT Writer is a simple Chrome extension that uses AI to reply to emails. It's incredibly simple, yet very effective in saving time in the long run.\n",
            "- Tidyo AI is essentially an AIpowered chat bot that can do two things. It either replaces lengthy, frequently asked questions and answers customers questions in a matter of seconds. Lero can answer 70% of your customers questions. That means that your support system can service more people in less time. The result is happier customers and ultimately more sales.\n",
            "- With Docuask, you no longer need to read those long Arduous documents. Docus takes any document and analyzes it. So you can simply ask questions about it in a chat box. Extracting information from documents literally could not be easier.\n",
            "- Microsoft's Copilot directly complements Microsoft's entire suite of products. It can do everything from analyzing Excel spreadsheets to making full blown PowerPoints. Copilot is one of the best examples of AI making your workflow more seamless and more efficient.\n",
            "- Adobe Firefly is one of the craziest AI tools yet. Firefly is a generative AIpowered content creation tool. It can create realistic images from detailed text. As with any boom, there will be an inevitable bust. The key here is to capitalize on the trends that are here to stay.\n"
          ]
        }
      ]
    },
    {
      "cell_type": "code",
      "source": [
        "#Using auto chapters model identifies and segments the audio into distinct chapters based on topic changes.\n",
        "config = aai.TranscriptionConfig(auto_chapters=True)\n",
        "\n",
        "transcript = aai.Transcriber().transcribe(audio_url, config)\n",
        "\n",
        "for chapter in transcript.chapters:\n",
        "  print(f\"{chapter.start}-{chapter.end}: {chapter.headline}\")"
      ],
      "metadata": {
        "id": "up2BUnA_EK5s",
        "colab": {
          "base_uri": "https://localhost:8080/"
        },
        "outputId": "949fd6f3-5a18-4d77-f4f2-f64cbe050342"
      },
      "execution_count": 78,
      "outputs": [
        {
          "output_type": "stream",
          "name": "stdout",
          "text": [
            "330-220306: Using AI to build websites can save you lots of time and money\n",
            "220408-312506: Opus Clip can turn long form videos into short form content\n",
            "312618-361518: Chat GPT Writer helps you save time using AI to reply to emails\n",
            "361604-470898: Tidyo AI can assist or entirely replace your support team\n",
            "470984-526858: With Docuask, you can extract information from long documents easily\n",
            "526974-608254: Microsoft's Copilot can do everything from analyzing Excel to making PowerPoints\n",
            "608372-767326: Adobe Firefly is a generative AIpowered content creation tool\n"
          ]
        }
      ]
    },
    {
      "cell_type": "code",
      "source": [
        "#Finding the sentiment of the audio\n",
        "config = aai.TranscriptionConfig(sentiment_analysis=True)\n",
        "\n",
        "transcript = aai.Transcriber().transcribe(audio_url, config)\n",
        "\n",
        "for sentiment_result in transcript.sentiment_analysis:\n",
        "    print(sentiment_result.text)\n",
        "    print(sentiment_result.sentiment)  # POSITIVE, NEUTRAL, or NEGATIVE\n",
        "    print(sentiment_result.confidence)\n",
        "    print(f\"Timestamp: {sentiment_result.start} - {sentiment_result.end}\")"
      ],
      "metadata": {
        "id": "8NHr8uI3NtnD",
        "colab": {
          "base_uri": "https://localhost:8080/"
        },
        "outputId": "f8433fa9-545e-4efe-f0d7-8d612f07ec4e"
      },
      "execution_count": 79,
      "outputs": [
        {
          "output_type": "stream",
          "name": "stdout",
          "text": [
            "Listen to me very closely because you have two choices when it comes to AI.\n",
            "SentimentType.neutral\n",
            "0.841913640499115\n",
            "Timestamp: 330 - 5386\n",
            "You can either adopt it or you can get left behind.\n",
            "SentimentType.neutral\n",
            "0.5830910801887512\n",
            "Timestamp: 5498 - 8846\n",
            "But here's the problem with all the news coming out about AI, seemingly every new AI will be the next big thing that will take everyone to the next level.\n",
            "SentimentType.neutral\n",
            "0.445529043674469\n",
            "Timestamp: 9028 - 18206\n",
            "But that's simply not true.\n",
            "SentimentType.negative\n",
            "0.8380900025367737\n",
            "Timestamp: 18308 - 21262\n",
            "Here's the reality of the situation.\n",
            "SentimentType.neutral\n",
            "0.6779012680053711\n",
            "Timestamp: 21396 - 23118\n",
            "Most of the AI tools that everyone swears by will not help you in any meaningful way.\n",
            "SentimentType.negative\n",
            "0.8612076044082642\n",
            "Timestamp: 23284 - 28054\n",
            "I mean, sure, they're cool, they're nice to have, but besides that, they're not really going to help you.\n",
            "SentimentType.neutral\n",
            "0.4364185035228729\n",
            "Timestamp: 28092 - 34566\n",
            "Now, here's what I mean.\n",
            "SentimentType.neutral\n",
            "0.718692421913147\n",
            "Timestamp: 34668 - 36726\n",
            "An AI tool should either make you more money or it should save you more time.\n",
            "SentimentType.neutral\n",
            "0.5129860639572144\n",
            "Timestamp: 36828 - 41306\n",
            "AI tools should make your workflow seamless, not add complexity to them.\n",
            "SentimentType.neutral\n",
            "0.5483993887901306\n",
            "Timestamp: 41408 - 46250\n",
            "So in today's video, I'm going to give you the seven AI tools in order to do that.\n",
            "SentimentType.neutral\n",
            "0.7912795543670654\n",
            "Timestamp: 46320 - 51498\n",
            "Now, the first AI tools that have the potential to make you lots of money and save you lots of time are Tenweb, IO and Durable.\n",
            "SentimentType.positive\n",
            "0.8820146918296814\n",
            "Timestamp: 51584 - 59626\n",
            "Co.\n",
            "SentimentType.neutral\n",
            "0.5639276504516602\n",
            "Timestamp: 59738 - 60302\n",
            "Now, back in the day, creating a website required a lot of skills and training.\n",
            "SentimentType.negative\n",
            "0.48650702834129333\n",
            "Timestamp: 60436 - 64750\n",
            "I mean, you needed to be proficient in several coding languages and you also had to design everything.\n",
            "SentimentType.neutral\n",
            "0.6815677285194397\n",
            "Timestamp: 64820 - 69778\n",
            "And then you needed to write each piece of code manually.\n",
            "SentimentType.neutral\n",
            "0.5417938232421875\n",
            "Timestamp: 69864 - 73646\n",
            "And only then would you be able to actually fill in the page with your copy.\n",
            "SentimentType.neutral\n",
            "0.798764169216156\n",
            "Timestamp: 73838 - 77486\n",
            "I mean, this entire process could take weeks, sometimes even months, depending on the complexity of the website.\n",
            "SentimentType.neutral\n",
            "0.5529085993766785\n",
            "Timestamp: 77518 - 83062\n",
            "It was a long, arduous, and most importantly, expensive process.\n",
            "SentimentType.negative\n",
            "0.7452836036682129\n",
            "Timestamp: 83196 - 86630\n",
            "And in the late 90s, even the most basic website could cost upwards of $20,000.\n",
            "SentimentType.negative\n",
            "0.535165011882782\n",
            "Timestamp: 86700 - 92154\n",
            "Then came tools like WordPress and later Wix and shopify.\n",
            "SentimentType.neutral\n",
            "0.7999470829963684\n",
            "Timestamp: 92352 - 96118\n",
            "And these tools drastically brought costs down.\n",
            "SentimentType.neutral\n",
            "0.5867641568183899\n",
            "Timestamp: 96214 - 99610\n",
            "And all of a sudden, most people could build at least a very basic website.\n",
            "SentimentType.neutral\n",
            "0.567269504070282\n",
            "Timestamp: 99680 - 104462\n",
            "But even since these came out in, the problem has still remained time.\n",
            "SentimentType.negative\n",
            "0.6757242679595947\n",
            "Timestamp: 104596 - 110222\n",
            "No matter how you put it, building a good website, however simple, will still take a long time.\n",
            "SentimentType.neutral\n",
            "0.49456512928009033\n",
            "Timestamp: 110356 - 115710\n",
            "I mean, sure, nowadays you don't have to code everything yourself.\n",
            "SentimentType.neutral\n",
            "0.7225127220153809\n",
            "Timestamp: 115780 - 118690\n",
            "You can kind of just put in whatever you want into the website builder.\n",
            "SentimentType.neutral\n",
            "0.8400951623916626\n",
            "Timestamp: 118760 - 122158\n",
            "But even then, it still takes time.\n",
            "SentimentType.neutral\n",
            "0.6791885495185852\n",
            "Timestamp: 122254 - 123938\n",
            "It takes time to get the design right.\n",
            "SentimentType.neutral\n",
            "0.721947193145752\n",
            "Timestamp: 124024 - 125778\n",
            "It takes time to write the copy.\n",
            "SentimentType.neutral\n",
            "0.7523941397666931\n",
            "Timestamp: 125864 - 127678\n",
            "It even takes time to learn how to use the website builders themselves.\n",
            "SentimentType.neutral\n",
            "0.6336385011672974\n",
            "Timestamp: 127774 - 131158\n",
            "So much so that agencies and contractors will offer to do it for you.\n",
            "SentimentType.neutral\n",
            "0.5963125824928284\n",
            "Timestamp: 131324 - 135462\n",
            "And let's be honest, lots of the custom websites are actually just slightly improved versions of basic wix templates.\n",
            "SentimentType.neutral\n",
            "0.5360564589500427\n",
            "Timestamp: 135516 - 141830\n",
            "So that's really all to say that building websites isn't easy and it isn't quick.\n",
            "SentimentType.negative\n",
            "0.6164852976799011\n",
            "Timestamp: 141910 - 146026\n",
            "And that's really where AI comes into the picture.\n",
            "SentimentType.neutral\n",
            "0.789301872253418\n",
            "Timestamp: 146128 - 148918\n",
            "With tools like Tenweb, IO and Durable, you can use AI to build your entire website for you.\n",
            "SentimentType.positive\n",
            "0.7563258409500122\n",
            "Timestamp: 149014 - 155214\n",
            "AI will design it, build it, write copy, and even source and insert the imagery.\n",
            "SentimentType.neutral\n",
            "0.803879976272583\n",
            "Timestamp: 155332 - 160394\n",
            "And in a matter of minutes, you can go from having no website to having a fully functioning and aesthetically pleasing website.\n",
            "SentimentType.positive\n",
            "0.6548412442207336\n",
            "Timestamp: 160442 - 167410\n",
            "All you need to do is give AI some basic information and that's it.\n",
            "SentimentType.neutral\n",
            "0.7171172499656677\n",
            "Timestamp: 167560 - 173186\n",
            "A few minutes answering prompts f that and you'll also be able to take advantage of features like built in SEO and AI recreation.\n",
            "SentimentType.positive\n",
            "0.6787209510803223\n",
            "Timestamp: 173288 - 181714\n",
            "AI recreation allows you to feed the AI websites you like, and it can recreate similar websites for you.\n",
            "SentimentType.positive\n",
            "0.5676450729370117\n",
            "Timestamp: 181842 - 188118\n",
            "Now of course, once made, you can edit whatever you want and even have the tool regenerate the site until it's to your perfection and your liking.\n",
            "SentimentType.neutral\n",
            "0.6293975710868835\n",
            "Timestamp: 188204 - 195878\n",
            "So you can either use these AI tools in your own business, or you can even start businesses around them.\n",
            "SentimentType.neutral\n",
            "0.5079188942909241\n",
            "Timestamp: 195974 - 201738\n",
            "You see, tons of people are paying freelancers a few hundred dollars to make really basic websites.\n",
            "SentimentType.neutral\n",
            "0.5265939235687256\n",
            "Timestamp: 201824 - 207290\n",
            "And with these tools, you can blow those freelancers out of the water in a matter of minutes and even command higher prices while doing so.\n",
            "SentimentType.neutral\n",
            "0.5034697651863098\n",
            "Timestamp: 207370 - 215550\n",
            "These are perfect examples of how AI tools can both save time and make you money.\n",
            "SentimentType.positive\n",
            "0.941377580165863\n",
            "Timestamp: 215620 - 220306\n",
            "Now, over the years, our attention span has gone shorter and shorter, and creators have to grab attention faster and faster.\n",
            "SentimentType.neutral\n",
            "0.4645625650882721\n",
            "Timestamp: 220408 - 227614\n",
            "And that eventually led to our current reality, where short form content is king.\n",
            "SentimentType.neutral\n",
            "0.7385438084602356\n",
            "Timestamp: 227662 - 231906\n",
            "Now, there's multiple ways to go about short form, and I would know because over the last year, I've had 20 full time editors full, full time, strictly doing short form content for me.\n",
            "SentimentType.neutral\n",
            "0.7737823724746704\n",
            "Timestamp: 232018 - 242458\n",
            "Now, obviously, that's super expensive.\n",
            "SentimentType.negative\n",
            "0.7771502733230591\n",
            "Timestamp: 242544 - 244278\n",
            "We have a full department for it, we have a department lead, and it's simply not an option for most people.\n",
            "SentimentType.negative\n",
            "0.510628342628479\n",
            "Timestamp: 244374 - 250058\n",
            "And that's where tools like Opusclip become extremely useful.\n",
            "SentimentType.positive\n",
            "0.8071547746658325\n",
            "Timestamp: 250144 - 254138\n",
            "You see, Opus Clip is able to take any long form video and with one click, turn your long form content into short form content.\n",
            "SentimentType.positive\n",
            "0.6052751541137695\n",
            "Timestamp: 254234 - 261582\n",
            "Now, the best part about this tool is that the AI is able to find the best hooks in the video and piece them together with the relevant highlights to pretty much cut out all of the boring stuff.\n",
            "SentimentType.positive\n",
            "0.8892615437507629\n",
            "Timestamp: 261716 - 272450\n",
            "And that means that your chances of virality are much, much higher.\n",
            "SentimentType.positive\n",
            "0.8527321219444275\n",
            "Timestamp: 272520 - 276178\n",
            "And the AI copilot also allows you to clip parts of a video based on keywords.\n",
            "SentimentType.neutral\n",
            "0.8030596971511841\n",
            "Timestamp: 276264 - 281362\n",
            "Now, this is easily one of the highest ROI tools on this list, especially considering how prevalent short form content is.\n",
            "SentimentType.positive\n",
            "0.9272506833076477\n",
            "Timestamp: 281426 - 287750\n",
            "And you know as well as I've that short form is not going anywhere.\n",
            "SentimentType.negative\n",
            "0.4930413067340851\n",
            "Timestamp: 287820 - 291666\n",
            "Tools like Opus Clip can not only save you time in editing and money in hiring, but you can also build a business around it.\n",
            "SentimentType.positive\n",
            "0.8212724924087524\n",
            "Timestamp: 291778 - 298170\n",
            "Of course, by now the industry is no stranger to short form agencies.\n",
            "SentimentType.neutral\n",
            "0.7654597759246826\n",
            "Timestamp: 298240 - 302022\n",
            "But just because there are plenty of them doesn't mean that they no longer work.\n",
            "SentimentType.neutral\n",
            "0.6837136149406433\n",
            "Timestamp: 302086 - 305486\n",
            "That means that tools like Opus can actually make you tons and tons of money and attract millions and millions of eyeballs.\n",
            "SentimentType.positive\n",
            "0.848600447177887\n",
            "Timestamp: 305588 - 312506\n",
            "Now, the next AI tool helps you save time and actually simplifies your workflow using Chat GPT Writer.\n",
            "SentimentType.positive\n",
            "0.9181742668151855\n",
            "Timestamp: 312618 - 319502\n",
            "Now, Chat GBT Writer is so simple, yet such a no brainer.\n",
            "SentimentType.positive\n",
            "0.7009548544883728\n",
            "Timestamp: 319566 - 323374\n",
            "And here's why.\n",
            "SentimentType.neutral\n",
            "0.6384324431419373\n",
            "Timestamp: 323422 - 324514\n",
            "Now, you'll remember that when Chat GPT first became the talk of the town, one of the prime use cases for AI was to do simple writing tasks.\n",
            "SentimentType.neutral\n",
            "0.7155880928039551\n",
            "Timestamp: 324632 - 332642\n",
            "But there's one slight problem.\n",
            "SentimentType.negative\n",
            "0.5611824989318848\n",
            "Timestamp: 332786 - 334166\n",
            "By the time that you get an email open, Chat GPT copy and paste the email, write the prompt to read and reply to email.\n",
            "SentimentType.neutral\n",
            "0.8660374879837036\n",
            "Timestamp: 334268 - 340550\n",
            "Once you set up all those fundamentals by that time frame, it probably would have been quicker to just reply to the email yourself.\n",
            "SentimentType.neutral\n",
            "0.7286011576652527\n",
            "Timestamp: 340700 - 347098\n",
            "And that's where Chat GPT writer comes in.\n",
            "SentimentType.neutral\n",
            "0.8780508637428284\n",
            "Timestamp: 347264 - 349962\n",
            "It's a simple Chat GPT based Chrome extension that alleviates all of that friction with using AI to reply to emails.\n",
            "SentimentType.positive\n",
            "0.7952707409858704\n",
            "Timestamp: 350016 - 357082\n",
            "It's incredibly simple, yet very effective in saving time in the long run.\n",
            "SentimentType.positive\n",
            "0.9454048275947571\n",
            "Timestamp: 357146 - 361518\n",
            "Now, next I want to talk about Tidyo.\n",
            "SentimentType.neutral\n",
            "0.8622305393218994\n",
            "Timestamp: 361604 - 363274\n",
            "Now, Tidio's AI Liro has the power to either assist or entirely replace your support team and doing all that whilst boosting sales on your website.\n",
            "SentimentType.positive\n",
            "0.6820401549339294\n",
            "Timestamp: 363322 - 372578\n",
            "And obviously this means that you either save money by hiring less staff or make more money by providing a better customer experience.\n",
            "SentimentType.neutral\n",
            "0.4970957338809967\n",
            "Timestamp: 372664 - 379686\n",
            "And both of those lead to the same outcome, which is more net income in your pocket.\n",
            "SentimentType.neutral\n",
            "0.633657693862915\n",
            "Timestamp: 379868 - 385218\n",
            "Now, Tidyo AI is essentially an AIpowered chat bot that can do two things.\n",
            "SentimentType.neutral\n",
            "0.8438131213188171\n",
            "Timestamp: 385314 - 390666\n",
            "It either replaces lengthy, frequently asked questions and answers customers questions in a matter of seconds.\n",
            "SentimentType.neutral\n",
            "0.656890332698822\n",
            "Timestamp: 390768 - 397382\n",
            "So that means that you can easily increase your site's conversion rates by making the customer journey so much more seamless.\n",
            "SentimentType.positive\n",
            "0.9383084774017334\n",
            "Timestamp: 397446 - 404170\n",
            "Because listen, instead of clogging the website with tons of frequently asked questions and still having loads of questions unanswered, you can now feed all of that information into AI, which can then answer all of your customers queries.\n",
            "SentimentType.neutral\n",
            "0.5358235836029053\n",
            "Timestamp: 404250 - 416478\n",
            "The AI can also answer more advanced queries like order, fulfillment or restocks by tapping into the database.\n",
            "SentimentType.neutral\n",
            "0.5389917492866516\n",
            "Timestamp: 416574 - 423630\n",
            "Now, the second thing the AI allows is for human customer support team to work faster and better.\n",
            "SentimentType.positive\n",
            "0.742490828037262\n",
            "Timestamp: 423710 - 429090\n",
            "You see, here's the thing.\n",
            "SentimentType.neutral\n",
            "0.6777586340904236\n",
            "Timestamp: 429160 - 429954\n",
            "Tidyo is a text based AI, which means it can take your support agents quick and rough replies and turn them into full sentences that are on par with your company's branding.\n",
            "SentimentType.positive\n",
            "0.5637815594673157\n",
            "Timestamp: 429992 - 440222\n",
            "But if your customer asks a question that's beyond the scope of the AI's knowledge base, then it will automatically refer them to a human agent.\n",
            "SentimentType.neutral\n",
            "0.5842379927635193\n",
            "Timestamp: 440306 - 448378\n",
            "Now, here's the interesting part.\n",
            "SentimentType.neutral\n",
            "0.496947318315506\n",
            "Timestamp: 448464 - 450490\n",
            "Lero can answer 70% of your customers questions.\n",
            "SentimentType.positive\n",
            "0.6667017936706543\n",
            "Timestamp: 450560 - 453950\n",
            "That means that your support system can service more people in less time.\n",
            "SentimentType.positive\n",
            "0.8231176733970642\n",
            "Timestamp: 454100 - 458638\n",
            "And as I said, the result is happier customers and ultimately more sales.\n",
            "SentimentType.positive\n",
            "0.8913684487342834\n",
            "Timestamp: 458724 - 464526\n",
            "So the next AI tool will be useful for just about anyone and have the potential to save tons of time.\n",
            "SentimentType.positive\n",
            "0.9467634558677673\n",
            "Timestamp: 464708 - 470898\n",
            "Now, have you ever read through a seemingly endless contract or some other lengthy document?\n",
            "SentimentType.neutral\n",
            "0.5517022013664246\n",
            "Timestamp: 470984 - 475982\n",
            "Now, maybe you had to do some reading for a class, or maybe you needed to read some other brief or report for work.\n",
            "SentimentType.neutral\n",
            "0.787577748298645\n",
            "Timestamp: 476046 - 481558\n",
            "Well, if you've ever been in a situation where you had to read a long document, then docuask can save you a ton of time.\n",
            "SentimentType.neutral\n",
            "0.5291444659233093\n",
            "Timestamp: 481644 - 487894\n",
            "Because with Docuask, you no longer need to read those long Arduous documents.\n",
            "SentimentType.neutral\n",
            "0.6142736077308655\n",
            "Timestamp: 487932 - 492678\n",
            "You see, there are plenty of tools that summarize text, chat, GPT can even do that.\n",
            "SentimentType.positive\n",
            "0.5694760680198669\n",
            "Timestamp: 492774 - 497562\n",
            "But the issue with the summaries is that they're only that summaries.\n",
            "SentimentType.negative\n",
            "0.710693895816803\n",
            "Timestamp: 497616 - 501430\n",
            "That means that you will inevitably miss important fine details.\n",
            "SentimentType.negative\n",
            "0.735268771648407\n",
            "Timestamp: 501510 - 505290\n",
            "But if you know what to look for, well then you can use Docus.\n",
            "SentimentType.neutral\n",
            "0.8074593544006348\n",
            "Timestamp: 505370 - 508554\n",
            "Because Docus takes any document and analyzes it.\n",
            "SentimentType.neutral\n",
            "0.8477061986923218\n",
            "Timestamp: 508682 - 512510\n",
            "So you can simply ask questions about it in a chat box.\n",
            "SentimentType.neutral\n",
            "0.8630199432373047\n",
            "Timestamp: 512580 - 515650\n",
            "Listen, here's the thing.\n",
            "SentimentType.neutral\n",
            "0.6862438917160034\n",
            "Timestamp: 515720 - 516562\n",
            "Extracting information from documents literally could not be easier.\n",
            "SentimentType.negative\n",
            "0.5525414943695068\n",
            "Timestamp: 516616 - 520286\n",
            "So you no longer need to spend hours and hours scouring through documents.\n",
            "SentimentType.neutral\n",
            "0.5435349941253662\n",
            "Timestamp: 520398 - 524558\n",
            "You can simply use AI.\n",
            "SentimentType.neutral\n",
            "0.7456551194190979\n",
            "Timestamp: 524654 - 526858\n",
            "Now, the next AI is one that I've mentioned in a previous video, but it may just be the most useful AI on this list.\n",
            "SentimentType.positive\n",
            "0.9022670984268188\n",
            "Timestamp: 526974 - 534598\n",
            "And that's Microsoft's Copilot.\n",
            "SentimentType.neutral\n",
            "0.6892187595367432\n",
            "Timestamp: 534684 - 536690\n",
            "Copilot directly complements Microsoft's entire suite of products.\n",
            "SentimentType.positive\n",
            "0.9540355801582336\n",
            "Timestamp: 536770 - 540874\n",
            "That means it's able to do everything from analyzing Excel spreadsheets to making full blown PowerPoints.\n",
            "SentimentType.positive\n",
            "0.6889746189117432\n",
            "Timestamp: 540992 - 546902\n",
            "I mean, Copilot can even transcribe notes during a Microsoft team meeting and provide you with a summary of the key points and action items and even execute on the actions itself.\n",
            "SentimentType.neutral\n",
            "0.5201964378356934\n",
            "Timestamp: 546966 - 557582\n",
            "So let's say one of those action items was to make a presentation.\n",
            "SentimentType.neutral\n",
            "0.8903520107269287\n",
            "Timestamp: 557716 - 560698\n",
            "Copilot is able to create a tailor made presentation to your desired branding guidelines.\n",
            "SentimentType.neutral\n",
            "0.6244804263114929\n",
            "Timestamp: 560794 - 566350\n",
            "I mean, we've all made a PowerPoint presentation before.\n",
            "SentimentType.neutral\n",
            "0.761153519153595\n",
            "Timestamp: 566430 - 568978\n",
            "That alone could literally save you hours.\n",
            "SentimentType.positive\n",
            "0.8285561203956604\n",
            "Timestamp: 569064 - 571714\n",
            "Copilot also knows your calendar and therefore can prepare you for upcoming meetings.\n",
            "SentimentType.neutral\n",
            "0.6908071637153625\n",
            "Timestamp: 571832 - 576702\n",
            "It can even generate reports and other Word documents based on previous work.\n",
            "SentimentType.neutral\n",
            "0.7337313294410706\n",
            "Timestamp: 576766 - 581270\n",
            "And of course, it can also reply to all of your emails for you.\n",
            "SentimentType.neutral\n",
            "0.7275376319885254\n",
            "Timestamp: 581340 - 584790\n",
            "Copilot is one of the best examples of AI making your workflow more seamless and more efficient.\n",
            "SentimentType.positive\n",
            "0.976148784160614\n",
            "Timestamp: 584860 - 591158\n",
            "It's an AI tool that anyone can take advantage of regardless of their occupation.\n",
            "SentimentType.negative\n",
            "0.5516473650932312\n",
            "Timestamp: 591254 - 595606\n",
            "And especially if you ever use one of Microsoft's products, well then Copilot will be useful to you.\n",
            "SentimentType.positive\n",
            "0.8672545552253723\n",
            "Timestamp: 595718 - 601354\n",
            "Whether you need to make a pitch deck for your clients or analyze last quarter's profitability, copilot can help.\n",
            "SentimentType.neutral\n",
            "0.7015988826751709\n",
            "Timestamp: 601392 - 608254\n",
            "Now, the last tool I want to talk about is Adobe Firefly.\n",
            "SentimentType.neutral\n",
            "0.5023936629295349\n",
            "Timestamp: 608372 - 611482\n",
            "Because Adobe Firefly is one of the craziest AI tools yet.\n",
            "SentimentType.positive\n",
            "0.8987517952919006\n",
            "Timestamp: 611546 - 615678\n",
            "You see, most of the other tools on this list simply save you time or money by doing tasks for you.\n",
            "SentimentType.neutral\n",
            "0.5719609260559082\n",
            "Timestamp: 615764 - 621090\n",
            "For example, tenweb and Durable make websites for you tidyo answers your customers questions and they basically give you leverage.\n",
            "SentimentType.positive\n",
            "0.6551552414894104\n",
            "Timestamp: 621160 - 628126\n",
            "Leverage is really what makes AI so powerful to begin with.\n",
            "SentimentType.positive\n",
            "0.8556206822395325\n",
            "Timestamp: 628238 - 631430\n",
            "You see, prior to AI, you'd have to spend hours on a task or spend money to hire someone to spend hours on that exact task.\n",
            "SentimentType.negative\n",
            "0.5196941494941711\n",
            "Timestamp: 631500 - 639138\n",
            "Now, well, now you essentially have an employee for a fraction of the cost.\n",
            "SentimentType.neutral\n",
            "0.8004224300384521\n",
            "Timestamp: 639234 - 643498\n",
            "But Adobe Firefly doesn't fall under that same umbrella.\n",
            "SentimentType.neutral\n",
            "0.6882240772247314\n",
            "Timestamp: 643584 - 647334\n",
            "You see, Adobe Firefly actually allows you to do things that otherwise would never have been possible.\n",
            "SentimentType.positive\n",
            "0.697352945804596\n",
            "Timestamp: 647382 - 653162\n",
            "And in the process of that, this AI is incredibly valuable.\n",
            "SentimentType.positive\n",
            "0.926344096660614\n",
            "Timestamp: 653296 - 657066\n",
            "Not only can you make it make your work easier, but you can also make it a hundred times better, which, of course, will make you more money.\n",
            "SentimentType.positive\n",
            "0.9333069920539856\n",
            "Timestamp: 657178 - 664638\n",
            "So let me explain how it works.\n",
            "SentimentType.neutral\n",
            "0.8120622038841248\n",
            "Timestamp: 664724 - 666146\n",
            "Firefly is a generative AIpowered content creation tool.\n",
            "SentimentType.neutral\n",
            "0.5823862552642822\n",
            "Timestamp: 666248 - 669858\n",
            "That means it can simply create things.\n",
            "SentimentType.neutral\n",
            "0.7389322519302368\n",
            "Timestamp: 669944 - 672098\n",
            "So let's look at three examples and how it can help you.\n",
            "SentimentType.neutral\n",
            "0.5863513946533203\n",
            "Timestamp: 672184 - 675410\n",
            "Firefly can create realistic images from detailed text.\n",
            "SentimentType.neutral\n",
            "0.5662071108818054\n",
            "Timestamp: 675480 - 679014\n",
            "And this is incredibly useful if you need any sort of product photography or any other scenario where you need to depict something.\n",
            "SentimentType.positive\n",
            "0.9249576926231384\n",
            "Timestamp: 679132 - 686486\n",
            "Now, normally, you need a whole team of graphic designers and artists, whereas now you can simply ask the AI to do it for you.\n",
            "SentimentType.neutral\n",
            "0.7225542664527893\n",
            "Timestamp: 686588 - 693930\n",
            "And that means that you're able to elevate your work drastically without elevating your costs.\n",
            "SentimentType.positive\n",
            "0.8174442648887634\n",
            "Timestamp: 694000 - 699030\n",
            "The second thing is, Firefly has something called generative fill, and that means that it can either draw in or erase objects in a photo.\n",
            "SentimentType.neutral\n",
            "0.8341419100761414\n",
            "Timestamp: 699110 - 706570\n",
            "So if you want to wear a different outfit in a certain photo, this AI can do that for you.\n",
            "SentimentType.neutral\n",
            "0.7705549597740173\n",
            "Timestamp: 706650 - 711550\n",
            "It can do things that would otherwise be impossible or would have taken a Photoshop expert to do.\n",
            "SentimentType.neutral\n",
            "0.6036629676818848\n",
            "Timestamp: 711620 - 716658\n",
            "Even then, Firefly does in a way that looks completely natural.\n",
            "SentimentType.positive\n",
            "0.7282238006591797\n",
            "Timestamp: 716744 - 720270\n",
            "It can also turn your sketches into photorealistic images and so much more.\n",
            "SentimentType.positive\n",
            "0.7073541879653931\n",
            "Timestamp: 720350 - 725026\n",
            "So if you work with any sort of content creation, firefly will be a must have tool, both for easy fixes and for exploring completely new ideas.\n",
            "SentimentType.positive\n",
            "0.8795157074928284\n",
            "Timestamp: 725128 - 734402\n",
            "And soon, Firefly will even be able to generate images from 3D elements.\n",
            "SentimentType.neutral\n",
            "0.5811324715614319\n",
            "Timestamp: 734466 - 738786\n",
            "Now, here's the bottom line.\n",
            "SentimentType.negative\n",
            "0.5818396210670471\n",
            "Timestamp: 738898 - 740966\n",
            "This AI revolution we're in is no different from any other technological revolution.\n",
            "SentimentType.neutral\n",
            "0.622416079044342\n",
            "Timestamp: 741068 - 745410\n",
            "And as with any boom, there will be an inevitable bust.\n",
            "SentimentType.negative\n",
            "0.5599538683891296\n",
            "Timestamp: 745490 - 749170\n",
            "The key here is to be able to discern what's to stay and what isn't, and then to capitalize on the trends that are here to stay.\n",
            "SentimentType.neutral\n",
            "0.7394275665283203\n",
            "Timestamp: 749250 - 756798\n",
            "And now that you have these seven tools to help you make money and save time, all you need to do is get to work.\n",
            "SentimentType.positive\n",
            "0.6280632019042969\n",
            "Timestamp: 756884 - 762798\n",
            "And as always, I'll be watching from afar.\n",
            "SentimentType.neutral\n",
            "0.7461028099060059\n",
            "Timestamp: 762884 - 765530\n",
            "And I'm rooting for you.\n",
            "SentimentType.positive\n",
            "0.8590496778488159\n",
            "Timestamp: 765690 - 767326\n"
          ]
        }
      ]
    }
  ]
}